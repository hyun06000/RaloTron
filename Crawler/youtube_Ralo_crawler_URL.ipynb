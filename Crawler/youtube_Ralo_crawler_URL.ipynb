{
 "cells": [
  {
   "cell_type": "code",
   "execution_count": 1,
   "id": "sustainable-rolling",
   "metadata": {},
   "outputs": [],
   "source": [
    "# https://pbj0812.tistory.com/255\n",
    "\n",
    "import lxml\n",
    "from bs4 import BeautifulSoup\n",
    "from selenium import webdriver\n",
    "from selenium.webdriver.chrome.options import Options"
   ]
  },
  {
   "cell_type": "code",
   "execution_count": 2,
   "id": "descending-accent",
   "metadata": {},
   "outputs": [],
   "source": [
    "Ralo_url = \"https://www.youtube.com/channel/UCD2YO_A_PVMgMDN9jpRrpVA/videos\""
   ]
  },
  {
   "cell_type": "code",
   "execution_count": 3,
   "id": "guilty-airport",
   "metadata": {},
   "outputs": [],
   "source": [
    "options = Options()\n",
    "options.add_argument(\"--headless\")\n",
    "options.add_argument(\"--disable-gpu\")\n",
    "options.add_argument('--no-sandbox')"
   ]
  },
  {
   "cell_type": "code",
   "execution_count": 4,
   "id": "extensive-store",
   "metadata": {},
   "outputs": [
    {
     "name": "stderr",
     "output_type": "stream",
     "text": [
      "/usr/local/lib/python3.6/dist-packages/ipykernel_launcher.py:1: DeprecationWarning: use options instead of chrome_options\n",
      "  \"\"\"Entry point for launching an IPython kernel.\n"
     ]
    }
   ],
   "source": [
    "w_driver = webdriver.Chrome('./chromedriver', chrome_options = options)"
   ]
  },
  {
   "cell_type": "code",
   "execution_count": 5,
   "id": "coordinate-paintball",
   "metadata": {},
   "outputs": [],
   "source": [
    "w_driver.get(Ralo_url)"
   ]
  },
  {
   "cell_type": "code",
   "execution_count": 6,
   "id": "animal-wallpaper",
   "metadata": {},
   "outputs": [],
   "source": [
    "page_src = w_driver.page_source"
   ]
  },
  {
   "cell_type": "code",
   "execution_count": 7,
   "id": "organic-discovery",
   "metadata": {},
   "outputs": [],
   "source": [
    "soup = BeautifulSoup(page_src,\"lxml\")"
   ]
  },
  {
   "cell_type": "code",
   "execution_count": 16,
   "id": "studied-piece",
   "metadata": {},
   "outputs": [],
   "source": [
    "tags = soup.find_all(\"a\", {\"href\": True})"
   ]
  },
  {
   "cell_type": "code",
   "execution_count": 21,
   "id": "green-snapshot",
   "metadata": {},
   "outputs": [],
   "source": [
    "srcs = []\n",
    "\n",
    "for i in tags:\n",
    "    if i.get(\"href\")[:7] == \"/watch?\":\n",
    "        srcs.append(i.get(\"href\"))"
   ]
  },
  {
   "cell_type": "code",
   "execution_count": 22,
   "id": "passive-dietary",
   "metadata": {},
   "outputs": [
    {
     "name": "stdout",
     "output_type": "stream",
     "text": [
      "['/watch?v=GIPfEWafstI', '/watch?v=GIPfEWafstI', '/watch?v=U45oRMpOmUg', '/watch?v=U45oRMpOmUg', '/watch?v=AWlRXpjd6hc', '/watch?v=AWlRXpjd6hc', '/watch?v=2AFmWJTntEs', '/watch?v=2AFmWJTntEs', '/watch?v=Fo9kouI9gQA', '/watch?v=Fo9kouI9gQA', '/watch?v=eOoizrJz3zg', '/watch?v=eOoizrJz3zg', '/watch?v=LYs6_7TuNX0', '/watch?v=LYs6_7TuNX0', '/watch?v=sMY0iw9KRcQ', '/watch?v=sMY0iw9KRcQ', '/watch?v=AjZt2vnsTpQ', '/watch?v=AjZt2vnsTpQ', '/watch?v=NiLow9bORRg', '/watch?v=NiLow9bORRg', '/watch?v=efjmm04y43E', '/watch?v=efjmm04y43E', '/watch?v=jgo_YnHCkIk', '/watch?v=jgo_YnHCkIk', '/watch?v=KzMCT1-ARAM', '/watch?v=KzMCT1-ARAM', '/watch?v=DDPNDPb8kRA', '/watch?v=DDPNDPb8kRA', '/watch?v=u9lwLxsk5Uc', '/watch?v=u9lwLxsk5Uc', '/watch?v=dvhttcbzyp0', '/watch?v=dvhttcbzyp0', '/watch?v=Q5lefjzmRnE', '/watch?v=Q5lefjzmRnE', '/watch?v=iGfiq7lSC6k', '/watch?v=iGfiq7lSC6k', '/watch?v=krGrjpRzZBY', '/watch?v=krGrjpRzZBY', '/watch?v=m1hsKQn2SeI', '/watch?v=m1hsKQn2SeI', '/watch?v=GERKgBxuD3E', '/watch?v=GERKgBxuD3E', '/watch?v=2OVL_Wbgzzk', '/watch?v=2OVL_Wbgzzk', '/watch?v=1oo0wmYL1vg', '/watch?v=1oo0wmYL1vg', '/watch?v=1FCIpRMyBJI', '/watch?v=1FCIpRMyBJI', '/watch?v=DM8HJmUAYiE', '/watch?v=DM8HJmUAYiE', '/watch?v=MQ0oxFnOJEA', '/watch?v=MQ0oxFnOJEA', '/watch?v=fMMswVs0M2g', '/watch?v=fMMswVs0M2g', '/watch?v=Ph-W57bpBxA', '/watch?v=Ph-W57bpBxA', '/watch?v=zPJ89C6vLE4', '/watch?v=zPJ89C6vLE4', '/watch?v=_-J-gDPQpNU', '/watch?v=_-J-gDPQpNU']\n"
     ]
    }
   ],
   "source": [
    "print(srcs)"
   ]
  },
  {
   "cell_type": "code",
   "execution_count": null,
   "id": "decent-lending",
   "metadata": {},
   "outputs": [],
   "source": []
  }
 ],
 "metadata": {
  "kernelspec": {
   "display_name": "Python 3",
   "language": "python",
   "name": "python3"
  },
  "language_info": {
   "codemirror_mode": {
    "name": "ipython",
    "version": 3
   },
   "file_extension": ".py",
   "mimetype": "text/x-python",
   "name": "python",
   "nbconvert_exporter": "python",
   "pygments_lexer": "ipython3",
   "version": "3.6.9"
  }
 },
 "nbformat": 4,
 "nbformat_minor": 5
}
