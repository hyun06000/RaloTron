{
 "cells": [
  {
   "cell_type": "code",
   "execution_count": 13,
   "id": "pleasant-integration",
   "metadata": {},
   "outputs": [],
   "source": [
    "# 출처 : https://jun-itworld.tistory.com/37?category=954968\n",
    "\n",
    "import pytube\n",
    "import os\n",
    "# 파이썬 실행중에 subprocess로 터미널 명령어 입력 가능\n",
    "import subprocess\n",
    "import re"
   ]
  },
  {
   "cell_type": "code",
   "execution_count": 3,
   "id": "fifth-mainland",
   "metadata": {},
   "outputs": [],
   "source": [
    "# 랄로 : 괴물과 싸우는 자는\n",
    "youtube_url = \"https://www.youtube.com/watch?v=U45oRMpOmUg\""
   ]
  },
  {
   "cell_type": "code",
   "execution_count": 4,
   "id": "posted-sauce",
   "metadata": {},
   "outputs": [],
   "source": [
    "# 파이튜브 객체 생성\n",
    "yt = pytube.YouTube(youtube_url)"
   ]
  },
  {
   "cell_type": "code",
   "execution_count": 10,
   "id": "crude-canon",
   "metadata": {},
   "outputs": [],
   "source": [
    "# 비디오 추출\n",
    "download_dir = './data/'\n",
    "downloaded_fname = yt.streams \\\n",
    ".filter(only_audio=True) \\\n",
    ".order_by(\"abr\") \\\n",
    ".first() \\\n",
    ".download(download_dir)\n",
    "# TODO : all() 이 deprecated function임. 최신버전 버전 확인."
   ]
  },
  {
   "cell_type": "code",
   "execution_count": 16,
   "id": "humanitarian-protocol",
   "metadata": {},
   "outputs": [
    {
     "name": "stdout",
     "output_type": "stream",
     "text": [
      "/tf/Crawler/./data/괴물과 싸우는 자는.webm\n",
      "/tf/Crawler/./data/괴물과_싸우는_자는.wav\n"
     ]
    }
   ],
   "source": [
    "ori_file_name = downloaded_fname\n",
    "new_file_name = downloaded_fname[:-5] + \".wav\"\n",
    "\n",
    "new_file_name = re.sub(\" \",\"_\",new_file_name)\n",
    "\n",
    "\n",
    "print(ori_file_name)\n",
    "print(new_file_name)"
   ]
  },
  {
   "cell_type": "code",
   "execution_count": 18,
   "id": "extended-logic",
   "metadata": {},
   "outputs": [
    {
     "data": {
      "text/plain": [
       "0"
      ]
     },
     "execution_count": 18,
     "metadata": {},
     "output_type": "execute_result"
    }
   ],
   "source": [
    "subprocess.call(['ffmpeg', '-i', ori_file_name, new_file_name])"
   ]
  },
  {
   "cell_type": "code",
   "execution_count": null,
   "id": "coupled-unemployment",
   "metadata": {},
   "outputs": [],
   "source": []
  }
 ],
 "metadata": {
  "kernelspec": {
   "display_name": "Python 3",
   "language": "python",
   "name": "python3"
  },
  "language_info": {
   "codemirror_mode": {
    "name": "ipython",
    "version": 3
   },
   "file_extension": ".py",
   "mimetype": "text/x-python",
   "name": "python",
   "nbconvert_exporter": "python",
   "pygments_lexer": "ipython3",
   "version": "3.6.9"
  }
 },
 "nbformat": 4,
 "nbformat_minor": 5
}
