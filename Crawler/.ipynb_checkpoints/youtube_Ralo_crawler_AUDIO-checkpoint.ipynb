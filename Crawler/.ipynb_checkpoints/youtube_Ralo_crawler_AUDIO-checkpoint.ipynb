{
 "cells": [
  {
   "cell_type": "code",
   "execution_count": 1,
   "id": "painful-syndicate",
   "metadata": {},
   "outputs": [],
   "source": [
    "# 출처 : https://jun-itworld.tistory.com/37?category=954968\n",
    "\n",
    "import pytube\n",
    "import os\n",
    "# 파이썬 실행중에 subprocess로 터미널 명령어 입력 가능\n",
    "import subprocess"
   ]
  },
  {
   "cell_type": "code",
   "execution_count": 2,
   "id": "registered-tongue",
   "metadata": {},
   "outputs": [],
   "source": [
    "# 랄로 : 괴물과 싸우는 자는\n",
    "youtube_url = \"https://www.youtube.com/watch?v=U45oRMpOmUg\""
   ]
  },
  {
   "cell_type": "code",
   "execution_count": 3,
   "id": "shared-response",
   "metadata": {},
   "outputs": [],
   "source": [
    "# 파이튜브 객체 생성\n",
    "yt = pytube.YouTube(youtube_url)"
   ]
  },
  {
   "cell_type": "code",
   "execution_count": 5,
   "id": "nominated-elements",
   "metadata": {},
   "outputs": [
    {
     "name": "stderr",
     "output_type": "stream",
     "text": [
      "/usr/local/lib/python3.6/dist-packages/ipykernel_launcher.py:2: DeprecationWarning: Call to deprecated function all (This object can be treated as a list, all() is useless).\n",
      "  \n"
     ]
    }
   ],
   "source": [
    "# 비디오 추출\n",
    "video = yt.streams.all()\n",
    "# TODO : all() 이 deprecated function임. 최신버전 버전 확인."
   ]
  },
  {
   "cell_type": "code",
   "execution_count": 25,
   "id": "continued-township",
   "metadata": {},
   "outputs": [
    {
     "name": "stdout",
     "output_type": "stream",
     "text": [
      "<Stream: itag=\"251\" mime_type=\"audio/webm\" abr=\"160kbps\" acodec=\"opus\" progressive=\"False\" type=\"audio\">\n",
      "audio\n",
      "160kbps\n"
     ]
    }
   ],
   "source": [
    "print(video[23].type)\n",
    "print(video[23].abr)"
   ]
  },
  {
   "cell_type": "code",
   "execution_count": 12,
   "id": "desirable-finder",
   "metadata": {},
   "outputs": [],
   "source": [
    "cNum = 23 # audio만 받는게 용량이 작아서 더 이득이다.\n",
    "download_dir = './data/'"
   ]
  },
  {
   "cell_type": "code",
   "execution_count": 13,
   "id": "fixed-vision",
   "metadata": {},
   "outputs": [],
   "source": [
    "downloaded_fname = video[cNum].download(download_dir)"
   ]
  },
  {
   "cell_type": "code",
   "execution_count": 14,
   "id": "continuing-attempt",
   "metadata": {},
   "outputs": [
    {
     "name": "stdout",
     "output_type": "stream",
     "text": [
      "/tf/Crawler/./video_data/괴물과 싸우는 자는.webm\n"
     ]
    }
   ],
   "source": [
    "print(downloaded_fname)"
   ]
  },
  {
   "cell_type": "code",
   "execution_count": 17,
   "id": "vertical-poverty",
   "metadata": {},
   "outputs": [
    {
     "name": "stdout",
     "output_type": "stream",
     "text": [
      "/tf/Crawler/./video_data/괴물과 싸우는 자는.wav\n",
      "/tf/Crawler/./video_data/괴물과 싸우는 자는.webm\n"
     ]
    }
   ],
   "source": [
    "new_file_name = downloaded_fname[:-5] + \".wav\"\n",
    "ori_file_name = downloaded_fname\n",
    "\n",
    "print(new_file_name)\n",
    "print(ori_file_name)"
   ]
  },
  {
   "cell_type": "code",
   "execution_count": 18,
   "id": "perfect-lincoln",
   "metadata": {},
   "outputs": [
    {
     "data": {
      "text/plain": [
       "0"
      ]
     },
     "execution_count": 18,
     "metadata": {},
     "output_type": "execute_result"
    }
   ],
   "source": [
    "subprocess.call(['ffmpeg', '-i', ori_file_name, new_file_name])"
   ]
  },
  {
   "cell_type": "code",
   "execution_count": null,
   "id": "powered-vitamin",
   "metadata": {},
   "outputs": [],
   "source": []
  }
 ],
 "metadata": {
  "kernelspec": {
   "display_name": "Python 3",
   "language": "python",
   "name": "python3"
  },
  "language_info": {
   "codemirror_mode": {
    "name": "ipython",
    "version": 3
   },
   "file_extension": ".py",
   "mimetype": "text/x-python",
   "name": "python",
   "nbconvert_exporter": "python",
   "pygments_lexer": "ipython3",
   "version": "3.6.9"
  }
 },
 "nbformat": 4,
 "nbformat_minor": 5
}
